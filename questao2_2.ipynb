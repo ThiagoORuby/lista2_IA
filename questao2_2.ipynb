{
 "cells": [
  {
   "cell_type": "markdown",
   "id": "dc36dea8-ace9-4d68-8051-ecfdcffec023",
   "metadata": {},
   "source": [
    "# Sistema de Diagnóstico de Doenças com Redes Bayesianas\n",
    "\n",
    "## Resumo\n",
    "\n",
    "O sistema foi desenvolvido utilizando a biblioteca `pgmpy` e uma base de dados fictícia de diagnóstico de doenças a partir da análise clínica de sintomas e dados dos pacientes. A base contém diagnósticos para:\n",
    "\n",
    "- Resfriado\n",
    "- Gripe\n",
    "- Bronquite\n",
    "- Pneumonia\n",
    "- Tuberculose\n",
    "\n",
    "A partir das variáveis dependentes, foi construído um gráfico de depedência de forma manual, com base nas possíveis relações entre os sintomas e diagnóstico. Utilizando essas relações e os dados, foi construída as tabelas de probabilidade bayesiana para cada nó e em seguida, inferências de exemplo para visualização do funcionamento do sistema\n",
    "\n",
    "![](src/diagnostico.png)"
   ]
  },
  {
   "cell_type": "code",
   "execution_count": 131,
   "id": "a399017b-199b-4a3a-a984-c8f1c7b30241",
   "metadata": {},
   "outputs": [],
   "source": [
    "# Definição das bibliotecas python utilizadas\n",
    "import pandas as pd\n",
    "from pgmpy.models import BayesianNetwork\n",
    "from pgmpy.estimators import MaximumLikelihoodEstimator, BaseEstimator, PC\n",
    "from pgmpy.inference import VariableElimination\n",
    "import warnings\n",
    "from IPython.display import Image\n",
    "\n",
    "warnings.filterwarnings(\"ignore\")"
   ]
  },
  {
   "cell_type": "markdown",
   "id": "c42c5f10-dca3-436f-948f-d40f09b559b4",
   "metadata": {},
   "source": [
    "### Análise e Visualização dos Dados"
   ]
  },
  {
   "cell_type": "code",
   "execution_count": 126,
   "id": "296c8cbf-e660-4a0a-a49a-3b0904fe796d",
   "metadata": {},
   "outputs": [
    {
     "data": {
      "text/html": [
       "<div>\n",
       "<style scoped>\n",
       "    .dataframe tbody tr th:only-of-type {\n",
       "        vertical-align: middle;\n",
       "    }\n",
       "\n",
       "    .dataframe tbody tr th {\n",
       "        vertical-align: top;\n",
       "    }\n",
       "\n",
       "    .dataframe thead th {\n",
       "        text-align: right;\n",
       "    }\n",
       "</style>\n",
       "<table border=\"1\" class=\"dataframe\">\n",
       "  <thead>\n",
       "    <tr style=\"text-align: right;\">\n",
       "      <th></th>\n",
       "      <th>faixa_etaria</th>\n",
       "      <th>fumante</th>\n",
       "      <th>tosse</th>\n",
       "      <th>febre</th>\n",
       "      <th>fadiga</th>\n",
       "      <th>falta_de_ar</th>\n",
       "      <th>dor_no_peito</th>\n",
       "      <th>dor_de_garganta</th>\n",
       "      <th>dor_de_cabeca</th>\n",
       "      <th>diagnostico</th>\n",
       "    </tr>\n",
       "  </thead>\n",
       "  <tbody>\n",
       "    <tr>\n",
       "      <th>0</th>\n",
       "      <td>idoso</td>\n",
       "      <td>sim</td>\n",
       "      <td>persistente</td>\n",
       "      <td>alta</td>\n",
       "      <td>não</td>\n",
       "      <td>sim</td>\n",
       "      <td>intensa</td>\n",
       "      <td>sim</td>\n",
       "      <td>não</td>\n",
       "      <td>pneumonia</td>\n",
       "    </tr>\n",
       "    <tr>\n",
       "      <th>1</th>\n",
       "      <td>adulto</td>\n",
       "      <td>sim</td>\n",
       "      <td>não</td>\n",
       "      <td>não</td>\n",
       "      <td>sim</td>\n",
       "      <td>não</td>\n",
       "      <td>sim</td>\n",
       "      <td>não</td>\n",
       "      <td>não</td>\n",
       "      <td>tuberculose</td>\n",
       "    </tr>\n",
       "    <tr>\n",
       "      <th>2</th>\n",
       "      <td>adolescente</td>\n",
       "      <td>não</td>\n",
       "      <td>sim</td>\n",
       "      <td>sim</td>\n",
       "      <td>não</td>\n",
       "      <td>sim</td>\n",
       "      <td>sim</td>\n",
       "      <td>sim</td>\n",
       "      <td>não</td>\n",
       "      <td>resfriado</td>\n",
       "    </tr>\n",
       "    <tr>\n",
       "      <th>3</th>\n",
       "      <td>idoso</td>\n",
       "      <td>sim</td>\n",
       "      <td>sim</td>\n",
       "      <td>não</td>\n",
       "      <td>não</td>\n",
       "      <td>grave</td>\n",
       "      <td>intensa</td>\n",
       "      <td>não</td>\n",
       "      <td>não</td>\n",
       "      <td>tuberculose</td>\n",
       "    </tr>\n",
       "    <tr>\n",
       "      <th>4</th>\n",
       "      <td>criança</td>\n",
       "      <td>sim</td>\n",
       "      <td>sim</td>\n",
       "      <td>alta</td>\n",
       "      <td>sim</td>\n",
       "      <td>não</td>\n",
       "      <td>não</td>\n",
       "      <td>moderada</td>\n",
       "      <td>intensa</td>\n",
       "      <td>gripe</td>\n",
       "    </tr>\n",
       "  </tbody>\n",
       "</table>\n",
       "</div>"
      ],
      "text/plain": [
       "  faixa_etaria fumante        tosse febre fadiga falta_de_ar dor_no_peito  \\\n",
       "0        idoso     sim  persistente  alta    não         sim      intensa   \n",
       "1       adulto     sim          não   não    sim         não          sim   \n",
       "2  adolescente     não          sim   sim    não         sim          sim   \n",
       "3        idoso     sim          sim   não    não       grave      intensa   \n",
       "4      criança     sim          sim  alta    sim         não          não   \n",
       "\n",
       "  dor_de_garganta dor_de_cabeca  diagnostico  \n",
       "0             sim           não    pneumonia  \n",
       "1             não           não  tuberculose  \n",
       "2             sim           não    resfriado  \n",
       "3             não           não  tuberculose  \n",
       "4        moderada       intensa        gripe  "
      ]
     },
     "execution_count": 126,
     "metadata": {},
     "output_type": "execute_result"
    }
   ],
   "source": [
    "df = pd.read_csv(\"src/sindromes_diagnostico.csv\")\n",
    "for col in df.columns:\n",
    "    df[col] = df[col].astype('category')\n",
    "df.head()"
   ]
  },
  {
   "cell_type": "code",
   "execution_count": 128,
   "id": "5990c2f2-69bc-4972-9b92-f34080c0ee88",
   "metadata": {},
   "outputs": [
    {
     "data": {
      "text/plain": [
       "['pneumonia', 'tuberculose', 'resfriado', 'gripe', 'bronquite']\n",
       "Categories (5, object): ['bronquite', 'gripe', 'pneumonia', 'resfriado', 'tuberculose']"
      ]
     },
     "execution_count": 128,
     "metadata": {},
     "output_type": "execute_result"
    }
   ],
   "source": [
    "df.diagnostico.unique()"
   ]
  },
  {
   "cell_type": "code",
   "execution_count": 127,
   "id": "9971b1ad-5832-4c46-9d31-e0d0426624cb",
   "metadata": {},
   "outputs": [
    {
     "data": {
      "text/plain": [
       "['faixa_etaria',\n",
       " 'fumante',\n",
       " 'tosse',\n",
       " 'febre',\n",
       " 'fadiga',\n",
       " 'falta_de_ar',\n",
       " 'dor_no_peito',\n",
       " 'dor_de_garganta',\n",
       " 'dor_de_cabeca',\n",
       " 'diagnostico']"
      ]
     },
     "execution_count": 127,
     "metadata": {},
     "output_type": "execute_result"
    }
   ],
   "source": [
    "list(df.columns)"
   ]
  },
  {
   "cell_type": "markdown",
   "id": "14346ef4-4770-470d-a43c-8aa90e202723",
   "metadata": {},
   "source": [
    "### Definição do grafo\n",
    "\n",
    "O grafo foi construído com base nas relações entre as variáveis, como a clara associação de tosse, e falta de ar a pessoas fumantes. Houve a tentativa de utilizar a própria biblioteca `pgmpy` para geração do grafo, mas as tentativas não geraram grafos muito coerentes"
   ]
  },
  {
   "cell_type": "code",
   "execution_count": 103,
   "id": "d65d0ead-117f-4768-b857-1630616ba43f",
   "metadata": {},
   "outputs": [],
   "source": [
    "grafo = [\n",
    "    ('fumante', 'tosse'),\n",
    "    ('fumante', 'falta_de_ar'),\n",
    "    ('tosse', 'falta_de_ar'),\n",
    "    ('tosse', 'febre'),\n",
    "    ('tosse', 'diagnostico'),\n",
    "    ('febre', 'fadiga'),\n",
    "    ('febre', 'diagnostico'),\n",
    "    ('falta_de_ar', 'dor_no_peito'),\n",
    "    ('falta_de_ar', 'diagnostico'),\n",
    "    ('dor_no_peito', 'diagnostico'),\n",
    "    ('dor_de_garganta', 'diagnostico'),\n",
    "    ('dor_de_cabeca', 'diagnostico')\n",
    "]"
   ]
  },
  {
   "cell_type": "markdown",
   "id": "3d3f730a-7b75-4087-bbc7-6da2c3f6b0dc",
   "metadata": {},
   "source": [
    "### Geração do Modelo\n",
    "\n",
    "As tabelas para o modelo foram construida utilizando estimadores, mais especificamente, o **Maximum Likelihood Estimator**. Todas foram então adicionadas ao modelo construído em cima do grafo definido anteriormente\n",
    "\n",
    "$$θ_{MLE} = \\arg \\max_{θ} L(θ∣D)$$"
   ]
  },
  {
   "cell_type": "code",
   "execution_count": 111,
   "id": "04afb433-72c4-4b08-830c-816947aaef63",
   "metadata": {},
   "outputs": [],
   "source": [
    "model = BayesianNetwork(grafo)\n",
    "columns = [\"fumante\", \"tosse\", \"febre\", \"fadiga\", \"falta_de_ar\", \"dor_no_peito\", \"dor_de_garganta\", \"dor_de_cabeca\"]\n",
    "model.add_cpds(*[MaximumLikelihoodEstimator(model, df).estimate_cpd(column) for column in columns])\n",
    "\n",
    "model.add_cpds(MaximumLikelihoodEstimator(model, df).estimate_cpd(\"diagnostico\"))"
   ]
  },
  {
   "cell_type": "code",
   "execution_count": 112,
   "id": "97ad7883-eba0-4d1d-a257-be52880f8060",
   "metadata": {},
   "outputs": [
    {
     "data": {
      "text/plain": [
       "True"
      ]
     },
     "execution_count": 112,
     "metadata": {},
     "output_type": "execute_result"
    }
   ],
   "source": [
    "# Checagem da \"saúde\" do modelo\n",
    "model.check_model()"
   ]
  },
  {
   "cell_type": "markdown",
   "id": "e94b9605-5f4b-4851-9dfa-5dbb3142ce76",
   "metadata": {},
   "source": [
    "### Visualização das Tabelas de Probabilidade\n",
    "\n",
    "O `pgmpy` permite a visualização das tabelas de probabilidade bayesiana, seguindo um modo de visualização parecido com o do **Netica** (na edição dos nós)"
   ]
  },
  {
   "cell_type": "code",
   "execution_count": 124,
   "id": "57616560-a1c8-48ae-ab8c-c8fcf8500833",
   "metadata": {},
   "outputs": [
    {
     "name": "stdout",
     "output_type": "stream",
     "text": [
      "+--------------+------+\n",
      "| fumante(não) | 0.46 |\n",
      "+--------------+------+\n",
      "| fumante(sim) | 0.54 |\n",
      "+--------------+------+\n",
      "+--------------------+---------------------+---------------------+\n",
      "| fumante            | fumante(não)        | fumante(sim)        |\n",
      "+--------------------+---------------------+---------------------+\n",
      "| tosse(não)         | 0.3521739130434783  | 0.3333333333333333  |\n",
      "+--------------------+---------------------+---------------------+\n",
      "| tosse(persistente) | 0.3217391304347826  | 0.37407407407407406 |\n",
      "+--------------------+---------------------+---------------------+\n",
      "| tosse(sim)         | 0.32608695652173914 | 0.29259259259259257 |\n",
      "+--------------------+---------------------+---------------------+\n",
      "+-------------+---------------------+--------------------+---------------------+\n",
      "| tosse       | tosse(não)          | tosse(persistente) | tosse(sim)          |\n",
      "+-------------+---------------------+--------------------+---------------------+\n",
      "| febre(alta) | 0.3391812865497076  | 0.3657142857142857 | 0.37012987012987014 |\n",
      "+-------------+---------------------+--------------------+---------------------+\n",
      "| febre(não)  | 0.2982456140350877  | 0.3142857142857143 | 0.3051948051948052  |\n",
      "+-------------+---------------------+--------------------+---------------------+\n",
      "| febre(sim)  | 0.36257309941520466 | 0.32               | 0.3246753246753247  |\n",
      "+-------------+---------------------+--------------------+---------------------+\n",
      "+------------------+-----+---------------------+\n",
      "| febre            | ... | febre(sim)          |\n",
      "+------------------+-----+---------------------+\n",
      "| fadiga(moderada) | ... | 0.30357142857142855 |\n",
      "+------------------+-----+---------------------+\n",
      "| fadiga(não)      | ... | 0.2976190476190476  |\n",
      "+------------------+-----+---------------------+\n",
      "| fadiga(sim)      | ... | 0.39880952380952384 |\n",
      "+------------------+-----+---------------------+\n",
      "+--------------------+-----+---------------------+\n",
      "| fumante            | ... | fumante(sim)        |\n",
      "+--------------------+-----+---------------------+\n",
      "| tosse              | ... | tosse(sim)          |\n",
      "+--------------------+-----+---------------------+\n",
      "| falta_de_ar(grave) | ... | 0.34177215189873417 |\n",
      "+--------------------+-----+---------------------+\n",
      "| falta_de_ar(não)   | ... | 0.4050632911392405  |\n",
      "+--------------------+-----+---------------------+\n",
      "| falta_de_ar(sim)   | ... | 0.25316455696202533 |\n",
      "+--------------------+-----+---------------------+\n",
      "+-----------------------+-----+---------------------+\n",
      "| falta_de_ar           | ... | falta_de_ar(sim)    |\n",
      "+-----------------------+-----+---------------------+\n",
      "| dor_no_peito(intensa) | ... | 0.3202247191011236  |\n",
      "+-----------------------+-----+---------------------+\n",
      "| dor_no_peito(não)     | ... | 0.29775280898876405 |\n",
      "+-----------------------+-----+---------------------+\n",
      "| dor_no_peito(sim)     | ... | 0.38202247191011235 |\n",
      "+-----------------------+-----+---------------------+\n",
      "+---------------------------+-------+\n",
      "| dor_de_garganta(moderada) | 0.28  |\n",
      "+---------------------------+-------+\n",
      "| dor_de_garganta(não)      | 0.366 |\n",
      "+---------------------------+-------+\n",
      "| dor_de_garganta(sim)      | 0.354 |\n",
      "+---------------------------+-------+\n",
      "+------------------------+-------+\n",
      "| dor_de_cabeca(intensa) | 0.318 |\n",
      "+------------------------+-------+\n",
      "| dor_de_cabeca(não)     | 0.358 |\n",
      "+------------------------+-------+\n",
      "| dor_de_cabeca(sim)     | 0.324 |\n",
      "+------------------------+-------+\n",
      "+--------------------------+-----+----------------------+\n",
      "| dor_de_cabeca            | ... | dor_de_cabeca(sim)   |\n",
      "+--------------------------+-----+----------------------+\n",
      "| dor_de_garganta          | ... | dor_de_garganta(sim) |\n",
      "+--------------------------+-----+----------------------+\n",
      "| dor_no_peito             | ... | dor_no_peito(sim)    |\n",
      "+--------------------------+-----+----------------------+\n",
      "| falta_de_ar              | ... | falta_de_ar(sim)     |\n",
      "+--------------------------+-----+----------------------+\n",
      "| febre                    | ... | febre(sim)           |\n",
      "+--------------------------+-----+----------------------+\n",
      "| tosse                    | ... | tosse(sim)           |\n",
      "+--------------------------+-----+----------------------+\n",
      "| diagnostico(bronquite)   | ... | 0.0                  |\n",
      "+--------------------------+-----+----------------------+\n",
      "| diagnostico(gripe)       | ... | 1.0                  |\n",
      "+--------------------------+-----+----------------------+\n",
      "| diagnostico(pneumonia)   | ... | 0.0                  |\n",
      "+--------------------------+-----+----------------------+\n",
      "| diagnostico(resfriado)   | ... | 0.0                  |\n",
      "+--------------------------+-----+----------------------+\n",
      "| diagnostico(tuberculose) | ... | 0.0                  |\n",
      "+--------------------------+-----+----------------------+\n"
     ]
    }
   ],
   "source": [
    "cpds = model.get_cpds()\n",
    "for cpd in cpds:\n",
    "    print(cpd)"
   ]
  },
  {
   "cell_type": "markdown",
   "id": "2603aa46-d790-4cd6-b2e9-2e2832d6155d",
   "metadata": {},
   "source": [
    "### Exemplos do Sistema de Inferências\n",
    "\n",
    "A escolha de função de inferência foi a de eliminação de variáveis, que consiste em, dado uma consulta $P(X|E)$, onde X é a variável de interesse e E as variáveis de evidência, realiza a multiplicação das tabelas de probabilidade relevantes pra consulta e elimina as variáveis não desejadas uma a uma através da soma das probabilidades\n",
    "\n",
    "```python\n",
    "infer = VariableEliminatio(model)\n",
    "```\n",
    "\n",
    "> O `pgmpy` conta com uma variedade de métodos de inferência e de construção das tabelas condições"
   ]
  },
  {
   "cell_type": "code",
   "execution_count": 136,
   "id": "d20e6e09-4bea-45b0-a670-3c4c4b8e7e8e",
   "metadata": {},
   "outputs": [],
   "source": [
    "infer = VariableElimination(model)"
   ]
  },
  {
   "cell_type": "markdown",
   "id": "c68e2643-98d3-4144-a7d4-227a59d2d621",
   "metadata": {},
   "source": [
    "Devido a presença de sintomas comuns e genéricos, como tosse e dor de garganta, o modelo infere com proximidade um resultado entre gripe e resfriado, dando baixa probabilidade para doenças mais graves"
   ]
  },
  {
   "cell_type": "code",
   "execution_count": 137,
   "id": "2c50df0d-b6ce-4847-9a59-5e94979e189e",
   "metadata": {},
   "outputs": [
    {
     "name": "stdout",
     "output_type": "stream",
     "text": [
      "+--------------------------+--------------------+\n",
      "| diagnostico              |   phi(diagnostico) |\n",
      "+==========================+====================+\n",
      "| diagnostico(bronquite)   |             0.0983 |\n",
      "+--------------------------+--------------------+\n",
      "| diagnostico(gripe)       |             0.2851 |\n",
      "+--------------------------+--------------------+\n",
      "| diagnostico(pneumonia)   |             0.1120 |\n",
      "+--------------------------+--------------------+\n",
      "| diagnostico(resfriado)   |             0.4063 |\n",
      "+--------------------------+--------------------+\n",
      "| diagnostico(tuberculose) |             0.0983 |\n",
      "+--------------------------+--------------------+\n"
     ]
    }
   ],
   "source": [
    "# Fazendo uma inferência para diagnóstico\n",
    "query_result = infer.query(variables=[\"diagnostico\"], \n",
    "                           evidence={\"tosse\": \"sim\", \"dor_de_garganta\": \"sim\", \"dor_de_cabeca\": \"não\"})\n",
    "print(query_result)"
   ]
  },
  {
   "cell_type": "markdown",
   "id": "e9d04858-71a6-4ecf-ad90-62fca4e1e2ff",
   "metadata": {},
   "source": [
    "Devido a sintomas como dor no peito intensa, tosse e o fato de ser fumante, é possível ver que o modelo infere com maior probabilidade a possibilidade de uma tuberculose"
   ]
  },
  {
   "cell_type": "code",
   "execution_count": 138,
   "id": "f4b76e59-b08e-4c6d-8134-efaf93908294",
   "metadata": {},
   "outputs": [
    {
     "name": "stdout",
     "output_type": "stream",
     "text": [
      "+--------------------------+--------------------+\n",
      "| diagnostico              |   phi(diagnostico) |\n",
      "+==========================+====================+\n",
      "| diagnostico(bronquite)   |             0.1321 |\n",
      "+--------------------------+--------------------+\n",
      "| diagnostico(gripe)       |             0.0917 |\n",
      "+--------------------------+--------------------+\n",
      "| diagnostico(pneumonia)   |             0.2136 |\n",
      "+--------------------------+--------------------+\n",
      "| diagnostico(resfriado)   |             0.1169 |\n",
      "+--------------------------+--------------------+\n",
      "| diagnostico(tuberculose) |             0.4457 |\n",
      "+--------------------------+--------------------+\n"
     ]
    }
   ],
   "source": [
    "query_result = infer.query(variables=[\"diagnostico\"], \n",
    "                           evidence={\"tosse\": \"sim\", \"dor_de_garganta\": \"não\", \"dor_no_peito\": \"intensa\", \"fumante\": \"sim\"})\n",
    "print(query_result)"
   ]
  },
  {
   "cell_type": "code",
   "execution_count": 123,
   "id": "8b0a0efe-3a9c-43c0-a537-a3f3981852d1",
   "metadata": {},
   "outputs": [
    {
     "data": {
      "image/png": "[encoded data removed]",
      "text/plain": [
       "<IPython.core.display.Image object>"
      ]
     },
     "execution_count": 123,
     "metadata": {},
     "output_type": "execute_result"
    }
   ],
   "source": [
    "viz = model.to_graphviz()\n",
    "viz.draw('diagnostico.png', prog='dot')\n",
    "Image('diagnostico.png')"
   ]
  }
 ],
 "metadata": {
  "kernelspec": {
   "display_name": "ia_venv",
   "language": "python",
   "name": "ia_venv"
  },
  "language_info": {
   "codemirror_mode": {
    "name": "ipython",
    "version": 3
   },
   "file_extension": ".py",
   "mimetype": "text/x-python",
   "name": "python",
   "nbconvert_exporter": "python",
   "pygments_lexer": "ipython3",
   "version": "3.11.10"
  }
 },
 "nbformat": 4,
 "nbformat_minor": 5
}
